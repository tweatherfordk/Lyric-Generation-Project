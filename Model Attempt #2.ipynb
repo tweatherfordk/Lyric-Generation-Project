{
 "cells": [
  {
   "cell_type": "code",
   "execution_count": 1,
   "id": "253e9bb8",
   "metadata": {},
   "outputs": [],
   "source": [
    "import numpy as np\n",
    "import pandas as pd\n",
    "import string\n",
    "import tensorflow as tf\n",
    "from tensorflow import keras\n",
    "\n",
    "import warnings\n",
    "warnings.filterwarnings('ignore')"
   ]
  },
  {
   "cell_type": "code",
   "execution_count": 2,
   "id": "b3f200a4",
   "metadata": {},
   "outputs": [],
   "source": [
    "#Load Data\n",
    "dataset = pd.read_csv('../Lyric-Generation-Project/lyric_corpus.csv', dtype=str)[:-1]"
   ]
  },
  {
   "cell_type": "code",
   "execution_count": 3,
   "id": "02b62080",
   "metadata": {},
   "outputs": [],
   "source": [
    "def create_lyrics_corpus(dataset, field):\n",
    "    # Remove all other punctuation\n",
    "    dataset[field] = dataset[field].str.replace('[{}]'.format(string.punctuation), '')\n",
    "    # Make it lowercase\n",
    "    dataset[field] = dataset[field].str.lower()\n",
    "    # Make it one long string to split by line\n",
    "    lyrics = dataset[field].str.cat()\n",
    "    corpus = lyrics.split('\\n')\n",
    "    # Remove any trailing whitespace\n",
    "    for l in range(len(corpus)):\n",
    "        corpus[l] = corpus[l].rstrip()\n",
    "    # Remove any empty lines\n",
    "    corpus = [l for l in corpus if l != '']\n",
    "    return corpus"
   ]
  },
  {
   "cell_type": "code",
   "execution_count": 4,
   "id": "c4ab596b",
   "metadata": {},
   "outputs": [
    {
     "data": {
      "text/plain": [
       "['turnpike gates lyricsspoken',\n",
       " 'in order for you to play with this record we must tune your guitar to ours we will start with the first string',\n",
       " 'chorus',\n",
       " 'we would drag ourselves to bed',\n",
       " 'and sleep took everything i had',\n",
       " 'i kept it up till he would call']"
      ]
     },
     "execution_count": 4,
     "metadata": {},
     "output_type": "execute_result"
    }
   ],
   "source": [
    "#Create Corpus\n",
    "corpus = create_lyrics_corpus(dataset, 'Lyrics')\n",
    "corpus[0:6]"
   ]
  },
  {
   "cell_type": "markdown",
   "id": "c617daf8",
   "metadata": {},
   "source": [
    "# Tokenizer"
   ]
  },
  {
   "cell_type": "code",
   "execution_count": 45,
   "id": "42cdd2eb",
   "metadata": {},
   "outputs": [],
   "source": [
    "from tensorflow.keras.preprocessing.text import Tokenizer\n",
    "from tensorflow.keras.preprocessing.sequence import pad_sequences"
   ]
  },
  {
   "cell_type": "code",
   "execution_count": 48,
   "id": "4111e831",
   "metadata": {},
   "outputs": [],
   "source": [
    "tokenizer = Tokenizer()\n",
    "\n",
    "def get_sequence_of_tokens(corpus):\n",
    "    ## tokenization\n",
    "    tokenizer.fit_on_texts(corpus)\n",
    "    total_words = len(tokenizer.word_index) + 1\n",
    "    \n",
    "    ## convert data to sequence of tokens \n",
    "    input_sequences = []\n",
    "    for line in corpus:\n",
    "        token_list = tokenizer.texts_to_sequences([line])[0]\n",
    "        for i in range(1, len(token_list)):\n",
    "            n_gram_sequence = token_list[:i+1]\n",
    "            input_sequences.append(n_gram_sequence)\n",
    "    return input_sequences, total_words\n",
    "\n",
    "inp_sequences, total_words = get_sequence_of_tokens(corpus)\n",
    "inp_sequences[:10]\n",
    "\n",
    "# One-hot encode the labels\n",
    "one_hot_labels = tf.keras.utils.to_categorical(labels, num_classes=total_words)"
   ]
  },
  {
   "cell_type": "code",
   "execution_count": null,
   "id": "f8c310fb",
   "metadata": {},
   "outputs": [],
   "source": [
    "from tensorflow.keras.models import Sequential\n",
    "from tensorflow.keras.layers import Embedding, LSTM, Dense, Bidirectional\n",
    "\n",
    "model = Sequential()\n",
    "model.add(Embedding(total_words, 64, input_length=max_sequence_len-1))\n",
    "model.add(Bidirectional(LSTM(20)))\n",
    "model.add(Dense(total_words, activation='softmax'))\n",
    "model.compile(loss='categorical_crossentropy', optimizer='adam', metrics=['accuracy'])\n",
    "history = model.fit(input_sequences, one_hot_labels, epochs=5, verbose=1)"
   ]
  },
  {
   "cell_type": "markdown",
   "id": "b1d1c8cb",
   "metadata": {},
   "source": [
    "# Text Vectorization"
   ]
  },
  {
   "cell_type": "code",
   "execution_count": 5,
   "id": "a96a96dd",
   "metadata": {},
   "outputs": [],
   "source": [
    "from tensorflow.keras.layers.experimental.preprocessing import TextVectorization"
   ]
  },
  {
   "cell_type": "code",
   "execution_count": 6,
   "id": "86e1accd",
   "metadata": {},
   "outputs": [],
   "source": [
    "vectorizer = TextVectorization(max_tokens=10600, output_sequence_length=200)\n",
    "#text_ds = tf.data.Dataset.from_tensor_slices(train_samples).batch(128)\n",
    "vectorizer.adapt(corpus)"
   ]
  },
  {
   "cell_type": "code",
   "execution_count": 7,
   "id": "d4c8ad7e",
   "metadata": {},
   "outputs": [
    {
     "data": {
      "text/plain": [
       "['one',\n",
       " 'can',\n",
       " 'now',\n",
       " 'want',\n",
       " 'mark',\n",
       " 'are',\n",
       " 'no',\n",
       " 'again',\n",
       " 'get',\n",
       " 'what',\n",
       " 'see',\n",
       " 'youre',\n",
       " 'way',\n",
       " 'na',\n",
       " 'away']"
      ]
     },
     "execution_count": 7,
     "metadata": {},
     "output_type": "execute_result"
    }
   ],
   "source": [
    "vectorizer.get_vocabulary()[50:65]"
   ]
  },
  {
   "cell_type": "code",
   "execution_count": 8,
   "id": "486a954d",
   "metadata": {},
   "outputs": [
    {
     "data": {
      "text/plain": [
       "array([  59,    7,  817,  114,    9,  286, 2037])"
      ]
     },
     "execution_count": 8,
     "metadata": {},
     "output_type": "execute_result"
    }
   ],
   "source": [
    "# Test the vectorizer\n",
    "output = vectorizer([[\"What a great day in New York\"]])\n",
    "output.numpy()[0, :7]"
   ]
  },
  {
   "cell_type": "code",
   "execution_count": 9,
   "id": "3cfb63a9",
   "metadata": {},
   "outputs": [
    {
     "data": {
      "text/plain": [
       "10568"
      ]
     },
     "execution_count": 9,
     "metadata": {},
     "output_type": "execute_result"
    }
   ],
   "source": [
    "voc = vectorizer.get_vocabulary()\n",
    "word_index = dict(zip(voc, range(len(voc))))\n",
    "len(word_index)"
   ]
  },
  {
   "cell_type": "code",
   "execution_count": 10,
   "id": "1c54ee97",
   "metadata": {},
   "outputs": [
    {
     "data": {
      "text/plain": [
       "[59, 7, 817, 114, 9, 286, 2037]"
      ]
     },
     "execution_count": 10,
     "metadata": {},
     "output_type": "execute_result"
    }
   ],
   "source": [
    "#Test is again now that it is in a dictionary\n",
    "test = [\"what\", \"a\", \"great\", \"day\", \"in\", \"new\", \"york\"] # has to be in lowercase\n",
    "[word_index[w] for w in test]"
   ]
  },
  {
   "cell_type": "markdown",
   "id": "3b909320",
   "metadata": {},
   "source": [
    "# Download Glove embeddings"
   ]
  },
  {
   "cell_type": "code",
   "execution_count": 11,
   "id": "9ff9bf1b",
   "metadata": {
    "collapsed": true
   },
   "outputs": [
    {
     "name": "stdout",
     "output_type": "stream",
     "text": [
      "Running `brew update --auto-update`...\n",
      "\u001b[34m==>\u001b[0m \u001b[1mAuto-updated Homebrew!\u001b[0m\n",
      "Updated 1 tap (homebrew/core).\n",
      "\n",
      "You have \u001b[1m2\u001b[0m outdated formulae installed.\n",
      "You can upgrade them with \u001b[1mbrew upgrade\u001b[0m\n",
      "or list them with \u001b[1mbrew outdated\u001b[0m.\n",
      "\n",
      "\u001b[34m==>\u001b[0m \u001b[1mDownloading https://ghcr.io/v2/homebrew/core/gettext/manifests/0.21.1\u001b[0m\n",
      "######################################################################## 100.0%\n",
      "\u001b[34m==>\u001b[0m \u001b[1mDownloading https://ghcr.io/v2/homebrew/core/gettext/blobs/sha256:9318777367\u001b[0m\n",
      "\u001b[34m==>\u001b[0m \u001b[1mDownloading from https://pkg-containers.githubusercontent.com/ghcr1/blobs/sh\u001b[0m\n",
      "######################################################################## 100.0%\n",
      "\u001b[34m==>\u001b[0m \u001b[1mDownloading https://ghcr.io/v2/homebrew/core/libunistring/manifests/1.0\u001b[0m\n",
      "######################################################################## 100.0%\n",
      "\u001b[34m==>\u001b[0m \u001b[1mDownloading https://ghcr.io/v2/homebrew/core/libunistring/blobs/sha256:18a16\u001b[0m\n",
      "\u001b[34m==>\u001b[0m \u001b[1mDownloading from https://pkg-containers.githubusercontent.com/ghcr1/blobs/sh\u001b[0m\n",
      "######################################################################## 100.0%\n",
      "\u001b[34m==>\u001b[0m \u001b[1mDownloading https://ghcr.io/v2/homebrew/core/libidn2/manifests/2.3.4\u001b[0m\n",
      "######################################################################## 100.0%\n",
      "\u001b[34m==>\u001b[0m \u001b[1mDownloading https://ghcr.io/v2/homebrew/core/libidn2/blobs/sha256:335207a9dc\u001b[0m\n",
      "\u001b[34m==>\u001b[0m \u001b[1mDownloading from https://pkg-containers.githubusercontent.com/ghcr1/blobs/sh\u001b[0m\n",
      "######################################################################## 100.0%\n",
      "\u001b[34m==>\u001b[0m \u001b[1mDownloading https://ghcr.io/v2/homebrew/core/ca-certificates/manifests/2022-\u001b[0m\n",
      "######################################################################## 100.0%\n",
      "\u001b[34m==>\u001b[0m \u001b[1mDownloading https://ghcr.io/v2/homebrew/core/ca-certificates/blobs/sha256:1b\u001b[0m\n",
      "\u001b[34m==>\u001b[0m \u001b[1mDownloading from https://pkg-containers.githubusercontent.com/ghcr1/blobs/sh\u001b[0m\n",
      "######################################################################## 100.0%\n",
      "\u001b[34m==>\u001b[0m \u001b[1mDownloading https://ghcr.io/v2/homebrew/core/openssl/1.1/manifests/1.1.1q\u001b[0m\n",
      "######################################################################## 100.0%\n",
      "\u001b[34m==>\u001b[0m \u001b[1mDownloading https://ghcr.io/v2/homebrew/core/openssl/1.1/blobs/sha256:b4dabe\u001b[0m\n",
      "\u001b[34m==>\u001b[0m \u001b[1mDownloading from https://pkg-containers.githubusercontent.com/ghcr1/blobs/sh\u001b[0m\n",
      "######################################################################## 100.0%\n",
      "\u001b[34m==>\u001b[0m \u001b[1mDownloading https://ghcr.io/v2/homebrew/core/wget/manifests/1.21.3\u001b[0m\n",
      "######################################################################## 100.0%\n",
      "\u001b[34m==>\u001b[0m \u001b[1mDownloading https://ghcr.io/v2/homebrew/core/wget/blobs/sha256:aa706c58ae7e9\u001b[0m\n",
      "\u001b[34m==>\u001b[0m \u001b[1mDownloading from https://pkg-containers.githubusercontent.com/ghcr1/blobs/sh\u001b[0m\n",
      "######################################################################## 100.0%\n",
      "\u001b[32m==>\u001b[0m \u001b[1mInstalling dependencies for wget: \u001b[32mgettext\u001b[39m, \u001b[32mlibunistring\u001b[39m, \u001b[32mlibidn2\u001b[39m, \u001b[32mca-certificates\u001b[39m and \u001b[32mopenssl@1.1\u001b[39m\u001b[0m\n",
      "\u001b[32m==>\u001b[0m \u001b[1mInstalling wget dependency: \u001b[32mgettext\u001b[39m\u001b[0m\n",
      "\u001b[34m==>\u001b[0m \u001b[1mPouring gettext--0.21.1.monterey.bottle.tar.gz\u001b[0m\n",
      "🍺  /usr/local/Cellar/gettext/0.21.1: 1,983 files, 20.6MB\n",
      "\u001b[32m==>\u001b[0m \u001b[1mInstalling wget dependency: \u001b[32mlibunistring\u001b[39m\u001b[0m\n",
      "\u001b[34m==>\u001b[0m \u001b[1mPouring libunistring--1.0.monterey.bottle.tar.gz\u001b[0m\n",
      "🍺  /usr/local/Cellar/libunistring/1.0: 56 files, 5MB\n",
      "\u001b[32m==>\u001b[0m \u001b[1mInstalling wget dependency: \u001b[32mlibidn2\u001b[39m\u001b[0m\n",
      "\u001b[34m==>\u001b[0m \u001b[1mPouring libidn2--2.3.4.monterey.bottle.tar.gz\u001b[0m\n",
      "🍺  /usr/local/Cellar/libidn2/2.3.4: 79 files, 1.2MB\n",
      "\u001b[32m==>\u001b[0m \u001b[1mInstalling wget dependency: \u001b[32mca-certificates\u001b[39m\u001b[0m\n",
      "\u001b[34m==>\u001b[0m \u001b[1mPouring ca-certificates--2022-10-11.all.bottle.tar.gz\u001b[0m\n",
      "\u001b[34m==>\u001b[0m \u001b[1mRegenerating CA certificate bundle from keychain, this may take a while...\u001b[0m\n",
      "🍺  /usr/local/Cellar/ca-certificates/2022-10-11: 3 files, 225.5KB\n",
      "\u001b[32m==>\u001b[0m \u001b[1mInstalling wget dependency: \u001b[32mopenssl@1.1\u001b[39m\u001b[0m\n",
      "\u001b[34m==>\u001b[0m \u001b[1mPouring openssl@1.1--1.1.1q.monterey.bottle.tar.gz\u001b[0m\n",
      "🍺  /usr/local/Cellar/openssl@1.1/1.1.1q: 8,097 files, 18.5MB\n",
      "\u001b[32m==>\u001b[0m \u001b[1mInstalling \u001b[32mwget\u001b[39m\u001b[0m\n",
      "\u001b[34m==>\u001b[0m \u001b[1mPouring wget--1.21.3.monterey.bottle.tar.gz\u001b[0m\n",
      "🍺  /usr/local/Cellar/wget/1.21.3: 89 files, 4.2MB\n",
      "\u001b[34m==>\u001b[0m \u001b[1mRunning `brew cleanup wget`...\u001b[0m\n",
      "Disable this behaviour by setting HOMEBREW_NO_INSTALL_CLEANUP.\n",
      "Hide these hints with HOMEBREW_NO_ENV_HINTS (see `man brew`).\n",
      "\u001b[34m==>\u001b[0m \u001b[1mUpgrading 1 dependent of upgraded formulae:\u001b[0m\n",
      "Disable this behaviour by setting HOMEBREW_NO_INSTALLED_DEPENDENTS_CHECK.\n",
      "Hide these hints with HOMEBREW_NO_ENV_HINTS (see `man brew`).\n",
      "git 2.37.1 -> 2.38.1\n",
      "\u001b[34m==>\u001b[0m \u001b[1mDownloading https://ghcr.io/v2/homebrew/core/git/manifests/2.38.1\u001b[0m\n",
      "######################################################################## 100.0%\n",
      "\u001b[34m==>\u001b[0m \u001b[1mDownloading https://ghcr.io/v2/homebrew/core/git/blobs/sha256:d938a6f7023775\u001b[0m\n",
      "\u001b[34m==>\u001b[0m \u001b[1mDownloading from https://pkg-containers.githubusercontent.com/ghcr1/blobs/sh\u001b[0m\n",
      "######################################################################## 100.0%\n",
      "\u001b[32m==>\u001b[0m \u001b[1mUpgrading \u001b[32mgit\u001b[39m\n",
      "  2.37.1 -> 2.38.1 \n",
      "\u001b[0m\n",
      "\u001b[34m==>\u001b[0m \u001b[1mPouring git--2.38.1.monterey.bottle.tar.gz\u001b[0m\n",
      "\u001b[31mError:\u001b[0m The `brew link` step did not complete successfully\n",
      "The formula built, but is not symlinked into /usr/local\n",
      "Could not symlink bin/git\n",
      "Target /usr/local/bin/git\n",
      "already exists. You may want to remove it:\n",
      "  rm '/usr/local/bin/git'\n",
      "\n",
      "To force the link and overwrite all conflicting files:\n",
      "  brew link --overwrite git\n",
      "\n",
      "To list all files that would be deleted:\n",
      "  brew link --overwrite --dry-run git\n",
      "\n",
      "Possible conflicting files are:\n",
      "/usr/local/bin/git -> /usr/local/git/bin/git\n",
      "/usr/local/bin/git-cvsserver -> /usr/local/git/bin/git-cvsserver\n",
      "/usr/local/bin/git-shell -> /usr/local/git/bin/git-shell\n",
      "/usr/local/bin/git-upload-pack -> /usr/local/git/bin/git-upload-pack\n",
      "/usr/local/share/man/man1/git-add.1 -> /usr/local/git/share/man/man1/git-add.1\n",
      "/usr/local/share/man/man1/git-am.1 -> /usr/local/git/share/man/man1/git-am.1\n",
      "/usr/local/share/man/man1/git-annotate.1 -> /usr/local/git/share/man/man1/git-annotate.1\n",
      "/usr/local/share/man/man1/git-apply.1 -> /usr/local/git/share/man/man1/git-apply.1\n",
      "/usr/local/share/man/man1/git-archimport.1 -> /usr/local/git/share/man/man1/git-archimport.1\n",
      "/usr/local/share/man/man1/git-archive.1 -> /usr/local/git/share/man/man1/git-archive.1\n",
      "/usr/local/share/man/man1/git-bisect.1 -> /usr/local/git/share/man/man1/git-bisect.1\n",
      "/usr/local/share/man/man1/git-blame.1 -> /usr/local/git/share/man/man1/git-blame.1\n",
      "/usr/local/share/man/man1/git-branch.1 -> /usr/local/git/share/man/man1/git-branch.1\n",
      "/usr/local/share/man/man1/git-bundle.1 -> /usr/local/git/share/man/man1/git-bundle.1\n",
      "/usr/local/share/man/man1/git-cat-file.1 -> /usr/local/git/share/man/man1/git-cat-file.1\n",
      "/usr/local/share/man/man1/git-check-attr.1 -> /usr/local/git/share/man/man1/git-check-attr.1\n",
      "/usr/local/share/man/man1/git-check-ignore.1 -> /usr/local/git/share/man/man1/git-check-ignore.1\n",
      "/usr/local/share/man/man1/git-check-mailmap.1 -> /usr/local/git/share/man/man1/git-check-mailmap.1\n",
      "/usr/local/share/man/man1/git-check-ref-format.1 -> /usr/local/git/share/man/man1/git-check-ref-format.1\n",
      "/usr/local/share/man/man1/git-checkout-index.1 -> /usr/local/git/share/man/man1/git-checkout-index.1\n",
      "/usr/local/share/man/man1/git-checkout.1 -> /usr/local/git/share/man/man1/git-checkout.1\n",
      "/usr/local/share/man/man1/git-cherry-pick.1 -> /usr/local/git/share/man/man1/git-cherry-pick.1\n",
      "/usr/local/share/man/man1/git-cherry.1 -> /usr/local/git/share/man/man1/git-cherry.1\n",
      "/usr/local/share/man/man1/git-citool.1 -> /usr/local/git/share/man/man1/git-citool.1\n",
      "/usr/local/share/man/man1/git-clean.1 -> /usr/local/git/share/man/man1/git-clean.1\n",
      "/usr/local/share/man/man1/git-clone.1 -> /usr/local/git/share/man/man1/git-clone.1\n",
      "/usr/local/share/man/man1/git-column.1 -> /usr/local/git/share/man/man1/git-column.1\n",
      "/usr/local/share/man/man1/git-commit-tree.1 -> /usr/local/git/share/man/man1/git-commit-tree.1\n",
      "/usr/local/share/man/man1/git-commit.1 -> /usr/local/git/share/man/man1/git-commit.1\n",
      "/usr/local/share/man/man1/git-config.1 -> /usr/local/git/share/man/man1/git-config.1\n",
      "/usr/local/share/man/man1/git-count-objects.1 -> /usr/local/git/share/man/man1/git-count-objects.1\n",
      "/usr/local/share/man/man1/git-credential-cache--daemon.1 -> /usr/local/git/share/man/man1/git-credential-cache--daemon.1\n",
      "/usr/local/share/man/man1/git-credential-cache.1 -> /usr/local/git/share/man/man1/git-credential-cache.1\n",
      "/usr/local/share/man/man1/git-credential-store.1 -> /usr/local/git/share/man/man1/git-credential-store.1\n",
      "/usr/local/share/man/man1/git-credential.1 -> /usr/local/git/share/man/man1/git-credential.1\n",
      "/usr/local/share/man/man1/git-cvsexportcommit.1 -> /usr/local/git/share/man/man1/git-cvsexportcommit.1\n",
      "/usr/local/share/man/man1/git-cvsimport.1 -> /usr/local/git/share/man/man1/git-cvsimport.1\n",
      "/usr/local/share/man/man1/git-cvsserver.1 -> /usr/local/git/share/man/man1/git-cvsserver.1\n",
      "/usr/local/share/man/man1/git-daemon.1 -> /usr/local/git/share/man/man1/git-daemon.1\n",
      "/usr/local/share/man/man1/git-describe.1 -> /usr/local/git/share/man/man1/git-describe.1\n",
      "/usr/local/share/man/man1/git-diff-files.1 -> /usr/local/git/share/man/man1/git-diff-files.1\n",
      "/usr/local/share/man/man1/git-diff-index.1 -> /usr/local/git/share/man/man1/git-diff-index.1\n",
      "/usr/local/share/man/man1/git-diff-tree.1 -> /usr/local/git/share/man/man1/git-diff-tree.1\n",
      "/usr/local/share/man/man1/git-diff.1 -> /usr/local/git/share/man/man1/git-diff.1\n",
      "/usr/local/share/man/man1/git-difftool.1 -> /usr/local/git/share/man/man1/git-difftool.1\n",
      "/usr/local/share/man/man1/git-fast-export.1 -> /usr/local/git/share/man/man1/git-fast-export.1\n",
      "/usr/local/share/man/man1/git-fast-import.1 -> /usr/local/git/share/man/man1/git-fast-import.1\n",
      "/usr/local/share/man/man1/git-fetch-pack.1 -> /usr/local/git/share/man/man1/git-fetch-pack.1\n",
      "/usr/local/share/man/man1/git-fetch.1 -> /usr/local/git/share/man/man1/git-fetch.1\n",
      "/usr/local/share/man/man1/git-filter-branch.1 -> /usr/local/git/share/man/man1/git-filter-branch.1\n",
      "/usr/local/share/man/man1/git-fmt-merge-msg.1 -> /usr/local/git/share/man/man1/git-fmt-merge-msg.1\n",
      "/usr/local/share/man/man1/git-for-each-ref.1 -> /usr/local/git/share/man/man1/git-for-each-ref.1\n",
      "/usr/local/share/man/man1/git-format-patch.1 -> /usr/local/git/share/man/man1/git-format-patch.1\n",
      "/usr/local/share/man/man1/git-fsck-objects.1 -> /usr/local/git/share/man/man1/git-fsck-objects.1\n",
      "/usr/local/share/man/man1/git-fsck.1 -> /usr/local/git/share/man/man1/git-fsck.1\n",
      "/usr/local/share/man/man1/git-gc.1 -> /usr/local/git/share/man/man1/git-gc.1\n",
      "/usr/local/share/man/man1/git-get-tar-commit-id.1 -> /usr/local/git/share/man/man1/git-get-tar-commit-id.1\n",
      "/usr/local/share/man/man1/git-grep.1 -> /usr/local/git/share/man/man1/git-grep.1\n",
      "/usr/local/share/man/man1/git-gui.1 -> /usr/local/git/share/man/man1/git-gui.1\n",
      "/usr/local/share/man/man1/git-hash-object.1 -> /usr/local/git/share/man/man1/git-hash-object.1\n",
      "/usr/local/share/man/man1/git-help.1 -> /usr/local/git/share/man/man1/git-help.1\n",
      "/usr/local/share/man/man1/git-http-backend.1 -> /usr/local/git/share/man/man1/git-http-backend.1\n",
      "/usr/local/share/man/man1/git-http-fetch.1 -> /usr/local/git/share/man/man1/git-http-fetch.1\n",
      "/usr/local/share/man/man1/git-http-push.1 -> /usr/local/git/share/man/man1/git-http-push.1\n",
      "/usr/local/share/man/man1/git-imap-send.1 -> /usr/local/git/share/man/man1/git-imap-send.1\n",
      "/usr/local/share/man/man1/git-index-pack.1 -> /usr/local/git/share/man/man1/git-index-pack.1\n",
      "/usr/local/share/man/man1/git-init-db.1 -> /usr/local/git/share/man/man1/git-init-db.1\n",
      "/usr/local/share/man/man1/git-init.1 -> /usr/local/git/share/man/man1/git-init.1\n",
      "/usr/local/share/man/man1/git-instaweb.1 -> /usr/local/git/share/man/man1/git-instaweb.1\n",
      "/usr/local/share/man/man1/git-interpret-trailers.1 -> /usr/local/git/share/man/man1/git-interpret-trailers.1\n",
      "/usr/local/share/man/man1/git-log.1 -> /usr/local/git/share/man/man1/git-log.1\n",
      "/usr/local/share/man/man1/git-ls-files.1 -> /usr/local/git/share/man/man1/git-ls-files.1\n",
      "/usr/local/share/man/man1/git-ls-remote.1 -> /usr/local/git/share/man/man1/git-ls-remote.1\n",
      "/usr/local/share/man/man1/git-ls-tree.1 -> /usr/local/git/share/man/man1/git-ls-tree.1\n",
      "/usr/local/share/man/man1/git-mailinfo.1 -> /usr/local/git/share/man/man1/git-mailinfo.1\n",
      "/usr/local/share/man/man1/git-mailsplit.1 -> /usr/local/git/share/man/man1/git-mailsplit.1\n",
      "/usr/local/share/man/man1/git-merge-base.1 -> /usr/local/git/share/man/man1/git-merge-base.1\n",
      "/usr/local/share/man/man1/git-merge-file.1 -> /usr/local/git/share/man/man1/git-merge-file.1\n",
      "/usr/local/share/man/man1/git-merge-index.1 -> /usr/local/git/share/man/man1/git-merge-index.1\n",
      "/usr/local/share/man/man1/git-merge-one-file.1 -> /usr/local/git/share/man/man1/git-merge-one-file.1\n",
      "/usr/local/share/man/man1/git-merge-tree.1 -> /usr/local/git/share/man/man1/git-merge-tree.1\n",
      "/usr/local/share/man/man1/git-merge.1 -> /usr/local/git/share/man/man1/git-merge.1\n",
      "/usr/local/share/man/man1/git-mergetool--lib.1 -> /usr/local/git/share/man/man1/git-mergetool--lib.1\n",
      "/usr/local/share/man/man1/git-mergetool.1 -> /usr/local/git/share/man/man1/git-mergetool.1\n",
      "/usr/local/share/man/man1/git-mktag.1 -> /usr/local/git/share/man/man1/git-mktag.1\n",
      "/usr/local/share/man/man1/git-mktree.1 -> /usr/local/git/share/man/man1/git-mktree.1\n",
      "/usr/local/share/man/man1/git-mv.1 -> /usr/local/git/share/man/man1/git-mv.1\n",
      "/usr/local/share/man/man1/git-name-rev.1 -> /usr/local/git/share/man/man1/git-name-rev.1\n",
      "/usr/local/share/man/man1/git-notes.1 -> /usr/local/git/share/man/man1/git-notes.1\n",
      "/usr/local/share/man/man1/git-p4.1 -> /usr/local/git/share/man/man1/git-p4.1\n",
      "/usr/local/share/man/man1/git-pack-objects.1 -> /usr/local/git/share/man/man1/git-pack-objects.1\n"
     ]
    },
    {
     "name": "stdout",
     "output_type": "stream",
     "text": [
      "/usr/local/share/man/man1/git-pack-redundant.1 -> /usr/local/git/share/man/man1/git-pack-redundant.1\n",
      "/usr/local/share/man/man1/git-pack-refs.1 -> /usr/local/git/share/man/man1/git-pack-refs.1\n",
      "/usr/local/share/man/man1/git-patch-id.1 -> /usr/local/git/share/man/man1/git-patch-id.1\n",
      "/usr/local/share/man/man1/git-prune-packed.1 -> /usr/local/git/share/man/man1/git-prune-packed.1\n",
      "/usr/local/share/man/man1/git-prune.1 -> /usr/local/git/share/man/man1/git-prune.1\n",
      "/usr/local/share/man/man1/git-pull.1 -> /usr/local/git/share/man/man1/git-pull.1\n",
      "/usr/local/share/man/man1/git-push.1 -> /usr/local/git/share/man/man1/git-push.1\n",
      "/usr/local/share/man/man1/git-quiltimport.1 -> /usr/local/git/share/man/man1/git-quiltimport.1\n",
      "/usr/local/share/man/man1/git-read-tree.1 -> /usr/local/git/share/man/man1/git-read-tree.1\n",
      "/usr/local/share/man/man1/git-rebase.1 -> /usr/local/git/share/man/man1/git-rebase.1\n",
      "/usr/local/share/man/man1/git-receive-pack.1 -> /usr/local/git/share/man/man1/git-receive-pack.1\n",
      "/usr/local/share/man/man1/git-reflog.1 -> /usr/local/git/share/man/man1/git-reflog.1\n",
      "/usr/local/share/man/man1/git-remote-ext.1 -> /usr/local/git/share/man/man1/git-remote-ext.1\n",
      "/usr/local/share/man/man1/git-remote-fd.1 -> /usr/local/git/share/man/man1/git-remote-fd.1\n",
      "/usr/local/share/man/man1/git-remote.1 -> /usr/local/git/share/man/man1/git-remote.1\n",
      "/usr/local/share/man/man1/git-repack.1 -> /usr/local/git/share/man/man1/git-repack.1\n",
      "/usr/local/share/man/man1/git-replace.1 -> /usr/local/git/share/man/man1/git-replace.1\n",
      "/usr/local/share/man/man1/git-request-pull.1 -> /usr/local/git/share/man/man1/git-request-pull.1\n",
      "/usr/local/share/man/man1/git-rerere.1 -> /usr/local/git/share/man/man1/git-rerere.1\n",
      "/usr/local/share/man/man1/git-reset.1 -> /usr/local/git/share/man/man1/git-reset.1\n",
      "/usr/local/share/man/man1/git-rev-list.1 -> /usr/local/git/share/man/man1/git-rev-list.1\n",
      "/usr/local/share/man/man1/git-rev-parse.1 -> /usr/local/git/share/man/man1/git-rev-parse.1\n",
      "/usr/local/share/man/man1/git-revert.1 -> /usr/local/git/share/man/man1/git-revert.1\n",
      "/usr/local/share/man/man1/git-rm.1 -> /usr/local/git/share/man/man1/git-rm.1\n",
      "/usr/local/share/man/man1/git-send-email.1 -> /usr/local/git/share/man/man1/git-send-email.1\n",
      "/usr/local/share/man/man1/git-send-pack.1 -> /usr/local/git/share/man/man1/git-send-pack.1\n",
      "/usr/local/share/man/man1/git-sh-i18n--envsubst.1 -> /usr/local/git/share/man/man1/git-sh-i18n--envsubst.1\n",
      "/usr/local/share/man/man1/git-sh-i18n.1 -> /usr/local/git/share/man/man1/git-sh-i18n.1\n",
      "/usr/local/share/man/man1/git-sh-setup.1 -> /usr/local/git/share/man/man1/git-sh-setup.1\n",
      "/usr/local/share/man/man1/git-shell.1 -> /usr/local/git/share/man/man1/git-shell.1\n",
      "/usr/local/share/man/man1/git-shortlog.1 -> /usr/local/git/share/man/man1/git-shortlog.1\n",
      "/usr/local/share/man/man1/git-show-branch.1 -> /usr/local/git/share/man/man1/git-show-branch.1\n",
      "/usr/local/share/man/man1/git-show-index.1 -> /usr/local/git/share/man/man1/git-show-index.1\n",
      "/usr/local/share/man/man1/git-show-ref.1 -> /usr/local/git/share/man/man1/git-show-ref.1\n",
      "/usr/local/share/man/man1/git-show.1 -> /usr/local/git/share/man/man1/git-show.1\n",
      "/usr/local/share/man/man1/git-stage.1 -> /usr/local/git/share/man/man1/git-stage.1\n",
      "/usr/local/share/man/man1/git-stash.1 -> /usr/local/git/share/man/man1/git-stash.1\n",
      "/usr/local/share/man/man1/git-status.1 -> /usr/local/git/share/man/man1/git-status.1\n",
      "/usr/local/share/man/man1/git-stripspace.1 -> /usr/local/git/share/man/man1/git-stripspace.1\n",
      "/usr/local/share/man/man1/git-submodule.1 -> /usr/local/git/share/man/man1/git-submodule.1\n",
      "/usr/local/share/man/man1/git-svn.1 -> /usr/local/git/share/man/man1/git-svn.1\n",
      "/usr/local/share/man/man1/git-symbolic-ref.1 -> /usr/local/git/share/man/man1/git-symbolic-ref.1\n",
      "/usr/local/share/man/man1/git-tag.1 -> /usr/local/git/share/man/man1/git-tag.1\n",
      "/usr/local/share/man/man1/git-unpack-file.1 -> /usr/local/git/share/man/man1/git-unpack-file.1\n",
      "/usr/local/share/man/man1/git-unpack-objects.1 -> /usr/local/git/share/man/man1/git-unpack-objects.1\n",
      "/usr/local/share/man/man1/git-update-index.1 -> /usr/local/git/share/man/man1/git-update-index.1\n",
      "/usr/local/share/man/man1/git-update-ref.1 -> /usr/local/git/share/man/man1/git-update-ref.1\n",
      "/usr/local/share/man/man1/git-update-server-info.1 -> /usr/local/git/share/man/man1/git-update-server-info.1\n",
      "/usr/local/share/man/man1/git-upload-archive.1 -> /usr/local/git/share/man/man1/git-upload-archive.1\n",
      "/usr/local/share/man/man1/git-upload-pack.1 -> /usr/local/git/share/man/man1/git-upload-pack.1\n",
      "/usr/local/share/man/man1/git-var.1 -> /usr/local/git/share/man/man1/git-var.1\n",
      "/usr/local/share/man/man1/git-verify-commit.1 -> /usr/local/git/share/man/man1/git-verify-commit.1\n",
      "/usr/local/share/man/man1/git-verify-pack.1 -> /usr/local/git/share/man/man1/git-verify-pack.1\n",
      "/usr/local/share/man/man1/git-verify-tag.1 -> /usr/local/git/share/man/man1/git-verify-tag.1\n",
      "/usr/local/share/man/man1/git-web--browse.1 -> /usr/local/git/share/man/man1/git-web--browse.1\n",
      "/usr/local/share/man/man1/git-whatchanged.1 -> /usr/local/git/share/man/man1/git-whatchanged.1\n",
      "/usr/local/share/man/man1/git-worktree.1 -> /usr/local/git/share/man/man1/git-worktree.1\n",
      "/usr/local/share/man/man1/git-write-tree.1 -> /usr/local/git/share/man/man1/git-write-tree.1\n",
      "/usr/local/share/man/man1/git.1 -> /usr/local/git/share/man/man1/git.1\n",
      "/usr/local/share/man/man1/gitk.1 -> /usr/local/git/share/man/man1/gitk.1\n",
      "/usr/local/share/man/man1/gitweb.1 -> /usr/local/git/share/man/man1/gitweb.1\n",
      "/usr/local/share/man/man5/gitattributes.5 -> /usr/local/git/share/man/man5/gitattributes.5\n",
      "/usr/local/share/man/man5/githooks.5 -> /usr/local/git/share/man/man5/githooks.5\n",
      "/usr/local/share/man/man5/gitignore.5 -> /usr/local/git/share/man/man5/gitignore.5\n",
      "/usr/local/share/man/man5/gitmodules.5 -> /usr/local/git/share/man/man5/gitmodules.5\n",
      "/usr/local/share/man/man5/gitrepository-layout.5 -> /usr/local/git/share/man/man5/gitrepository-layout.5\n",
      "/usr/local/share/man/man5/gitweb.conf.5 -> /usr/local/git/share/man/man5/gitweb.conf.5\n",
      "/usr/local/share/man/man7/gitcli.7 -> /usr/local/git/share/man/man7/gitcli.7\n",
      "/usr/local/share/man/man7/gitcore-tutorial.7 -> /usr/local/git/share/man/man7/gitcore-tutorial.7\n",
      "/usr/local/share/man/man7/gitcredentials.7 -> /usr/local/git/share/man/man7/gitcredentials.7\n",
      "/usr/local/share/man/man7/gitcvs-migration.7 -> /usr/local/git/share/man/man7/gitcvs-migration.7\n",
      "/usr/local/share/man/man7/gitdiffcore.7 -> /usr/local/git/share/man/man7/gitdiffcore.7\n",
      "/usr/local/share/man/man7/giteveryday.7 -> /usr/local/git/share/man/man7/giteveryday.7\n",
      "/usr/local/share/man/man7/gitglossary.7 -> /usr/local/git/share/man/man7/gitglossary.7\n",
      "/usr/local/share/man/man7/gitnamespaces.7 -> /usr/local/git/share/man/man7/gitnamespaces.7\n",
      "/usr/local/share/man/man7/gitrevisions.7 -> /usr/local/git/share/man/man7/gitrevisions.7\n",
      "/usr/local/share/man/man7/gitsubmodules.7 -> /usr/local/git/share/man/man7/gitsubmodules.7\n",
      "/usr/local/share/man/man7/gittutorial-2.7 -> /usr/local/git/share/man/man7/gittutorial-2.7\n",
      "/usr/local/share/man/man7/gittutorial.7 -> /usr/local/git/share/man/man7/gittutorial.7\n",
      "/usr/local/share/man/man7/gitworkflows.7 -> /usr/local/git/share/man/man7/gitworkflows.7\n",
      "\u001b[34m==>\u001b[0m \u001b[1mCaveats\u001b[0m\n",
      "The Tcl/Tk GUIs (e.g. gitk, git-gui) are now in the `git-gui` formula.\n",
      "Subversion interoperability (git-svn) is now in the `git-svn` formula.\n",
      "\n",
      "Bash completion has been installed to:\n",
      "  /usr/local/etc/bash_completion.d\n",
      "\u001b[34m==>\u001b[0m \u001b[1mSummary\u001b[0m\n",
      "🍺  /usr/local/Cellar/git/2.38.1: 1,592 files, 47.6MB\n",
      "\u001b[34m==>\u001b[0m \u001b[1mRunning `brew cleanup git`...\u001b[0m\n",
      "Removing: /usr/local/Cellar/git/2.37.1... (1,559 files, 44.6MB)\n",
      "Removing: /Users/weatherford/Library/Caches/Homebrew/git--2.37.1... (16.1MB)\n",
      "\u001b[32m==>\u001b[0m \u001b[1mChecking for dependents of upgraded formulae...\u001b[0m\n",
      "\u001b[34m==>\u001b[0m \u001b[1mNo broken dependents found!\u001b[0m\n",
      "\u001b[32m==>\u001b[0m \u001b[1mCaveats\u001b[0m\n",
      "\u001b[34m==>\u001b[0m \u001b[1mgit\u001b[0m\n",
      "The Tcl/Tk GUIs (e.g. gitk, git-gui) are now in the `git-gui` formula.\n",
      "Subversion interoperability (git-svn) is now in the `git-svn` formula.\n",
      "\n",
      "Bash completion has been installed to:\n",
      "  /usr/local/etc/bash_completion.d\n"
     ]
    }
   ],
   "source": [
    "!brew install wget"
   ]
  },
  {
   "cell_type": "code",
   "execution_count": 12,
   "id": "45ac600c",
   "metadata": {
    "collapsed": true
   },
   "outputs": [
    {
     "name": "stdout",
     "output_type": "stream",
     "text": [
      "--2022-10-27 00:07:40--  http://nlp.stanford.edu/data/glove.6B.zip\n",
      "Resolving nlp.stanford.edu (nlp.stanford.edu)... 171.64.67.140\n",
      "Connecting to nlp.stanford.edu (nlp.stanford.edu)|171.64.67.140|:80... connected.\n",
      "HTTP request sent, awaiting response... 302 Found\n",
      "Location: https://nlp.stanford.edu/data/glove.6B.zip [following]\n",
      "--2022-10-27 00:07:40--  https://nlp.stanford.edu/data/glove.6B.zip\n",
      "Connecting to nlp.stanford.edu (nlp.stanford.edu)|171.64.67.140|:443... connected.\n",
      "HTTP request sent, awaiting response... 301 Moved Permanently\n",
      "Location: https://downloads.cs.stanford.edu/nlp/data/glove.6B.zip [following]\n",
      "--2022-10-27 00:07:41--  https://downloads.cs.stanford.edu/nlp/data/glove.6B.zip\n",
      "Resolving downloads.cs.stanford.edu (downloads.cs.stanford.edu)... 171.64.64.22\n",
      "Connecting to downloads.cs.stanford.edu (downloads.cs.stanford.edu)|171.64.64.22|:443... connected.\n",
      "HTTP request sent, awaiting response... 200 OK\n",
      "Length: 862182613 (822M) [application/zip]\n",
      "Saving to: ‘glove.6B.zip’\n",
      "\n",
      "glove.6B.zip        100%[===================>] 822.24M  5.11MB/s    in 2m 40s  \n",
      "\n",
      "2022-10-27 00:10:21 (5.15 MB/s) - ‘glove.6B.zip’ saved [862182613/862182613]\n",
      "\n"
     ]
    }
   ],
   "source": [
    "!wget http://nlp.stanford.edu/data/glove.6B.zip\n",
    "!unzip -q glove.6B.zip\n"
   ]
  },
  {
   "cell_type": "code",
   "execution_count": 14,
   "id": "ee5b59df",
   "metadata": {},
   "outputs": [],
   "source": [
    "import os"
   ]
  },
  {
   "cell_type": "code",
   "execution_count": 22,
   "id": "87393252",
   "metadata": {},
   "outputs": [
    {
     "name": "stdout",
     "output_type": "stream",
     "text": [
      "Found 400000 word vectors.\n"
     ]
    }
   ],
   "source": [
    "path_to_glove_file = os.path.join(\n",
    "    os.path.expanduser(\"~\"), \"/Users/weatherford/Documents/Flatiron/Lyric-Generation-Project/glove.6B.100d.txt\"\n",
    ")\n",
    "\n",
    "embeddings_index = {}\n",
    "with open(path_to_glove_file) as f:\n",
    "    for line in f:\n",
    "        word, coefs = line.split(maxsplit=1)\n",
    "        coefs = np.fromstring(coefs, \"f\", sep=\" \")\n",
    "        embeddings_index[word] = coefs\n",
    "\n",
    "print(\"Found %s word vectors.\" % len(embeddings_index))"
   ]
  },
  {
   "cell_type": "code",
   "execution_count": 24,
   "id": "68088e90",
   "metadata": {},
   "outputs": [
    {
     "name": "stdout",
     "output_type": "stream",
     "text": [
      "Converted 7854 words (2714 misses)\n"
     ]
    }
   ],
   "source": [
    "num_tokens = len(voc) + 2\n",
    "embedding_dim = 100\n",
    "hits = 0\n",
    "misses = 0\n",
    "\n",
    "# Prepare embedding matrix\n",
    "embedding_matrix = np.zeros((num_tokens, embedding_dim))\n",
    "for word, i in word_index.items():\n",
    "    embedding_vector = embeddings_index.get(word)\n",
    "    if embedding_vector is not None:\n",
    "        # Words not found in embedding index will be all-zeros.\n",
    "        # This includes the representation for \"padding\" and \"OOV\"\n",
    "        embedding_matrix[i] = embedding_vector\n",
    "        hits += 1\n",
    "    else:\n",
    "        misses += 1\n",
    "print(\"Converted %d words (%d misses)\" % (hits, misses))"
   ]
  },
  {
   "cell_type": "code",
   "execution_count": null,
   "id": "39db22e6",
   "metadata": {},
   "outputs": [],
   "source": [
    "from tensorflow.keras.layers import Embedding\n",
    "\n",
    "embedding_layer = Embedding(\n",
    "    num_tokens,\n",
    "    embedding_dim,\n",
    "    embeddings_initializer=keras.initializers.Constant(embedding_matrix),\n",
    "    trainable=False,) "
   ]
  },
  {
   "cell_type": "code",
   "execution_count": null,
   "id": "a647eb15",
   "metadata": {},
   "outputs": [],
   "source": []
  },
  {
   "cell_type": "markdown",
   "id": "0e521d39",
   "metadata": {},
   "source": [
    "# Build the model"
   ]
  },
  {
   "cell_type": "code",
   "execution_count": 51,
   "id": "3b959eaa",
   "metadata": {},
   "outputs": [],
   "source": [
    "import pickle"
   ]
  },
  {
   "cell_type": "code",
   "execution_count": 53,
   "id": "6eecd29b",
   "metadata": {
    "collapsed": true
   },
   "outputs": [
    {
     "name": "stdout",
     "output_type": "stream",
     "text": [
      "Epoch 1/10\n",
      "7531/7531 [==============================] - 1220s 162ms/step - loss: 6.3154 - accuracy: 0.0579\n",
      "Epoch 2/10\n",
      "7531/7531 [==============================] - 1113s 148ms/step - loss: 5.7075 - accuracy: 0.1002\n",
      "Epoch 3/10\n",
      "7531/7531 [==============================] - 1104s 147ms/step - loss: 5.4318 - accuracy: 0.1166\n",
      "Epoch 4/10\n",
      "7531/7531 [==============================] - 1102s 146ms/step - loss: 5.2651 - accuracy: 0.1280\n",
      "Epoch 5/10\n",
      "7531/7531 [==============================] - 1105s 147ms/step - loss: 5.1501 - accuracy: 0.1345\n",
      "Epoch 6/10\n",
      "7531/7531 [==============================] - 1104s 147ms/step - loss: 5.0646 - accuracy: 0.1404\n",
      "Epoch 7/10\n",
      "7531/7531 [==============================] - 1117s 148ms/step - loss: 4.9996 - accuracy: 0.1449\n",
      "Epoch 8/10\n",
      "7531/7531 [==============================] - 1141s 151ms/step - loss: 4.9476 - accuracy: 0.1485\n",
      "Epoch 9/10\n",
      "7531/7531 [==============================] - 1108s 147ms/step - loss: 4.9051 - accuracy: 0.1511\n",
      "Epoch 10/10\n",
      "7531/7531 [==============================] - 1107s 147ms/step - loss: 4.8702 - accuracy: 0.1541\n"
     ]
    },
    {
     "ename": "TypeError",
     "evalue": "cannot pickle '_thread.RLock' object",
     "output_type": "error",
     "traceback": [
      "\u001b[0;31m---------------------------------------------------------------------------\u001b[0m",
      "\u001b[0;31mTypeError\u001b[0m                                 Traceback (most recent call last)",
      "\u001b[0;32m<ipython-input-53-e7b4262cfc36>\u001b[0m in \u001b[0;36m<module>\u001b[0;34m\u001b[0m\n\u001b[1;32m     10\u001b[0m \u001b[0;34m\u001b[0m\u001b[0m\n\u001b[1;32m     11\u001b[0m \u001b[0;32mwith\u001b[0m \u001b[0mopen\u001b[0m\u001b[0;34m(\u001b[0m\u001b[0;34m'model_test.pkl'\u001b[0m\u001b[0;34m,\u001b[0m\u001b[0;34m'wb'\u001b[0m\u001b[0;34m)\u001b[0m \u001b[0;32mas\u001b[0m \u001b[0mf\u001b[0m\u001b[0;34m:\u001b[0m\u001b[0;34m\u001b[0m\u001b[0;34m\u001b[0m\u001b[0m\n\u001b[0;32m---> 12\u001b[0;31m     \u001b[0mpickle\u001b[0m\u001b[0;34m.\u001b[0m\u001b[0mdump\u001b[0m\u001b[0;34m(\u001b[0m\u001b[0mhistory\u001b[0m\u001b[0;34m,\u001b[0m \u001b[0mf\u001b[0m\u001b[0;34m)\u001b[0m\u001b[0;34m\u001b[0m\u001b[0;34m\u001b[0m\u001b[0m\n\u001b[0m",
      "\u001b[0;31mTypeError\u001b[0m: cannot pickle '_thread.RLock' object"
     ]
    }
   ],
   "source": [
    "from tensorflow.keras.models import Sequential\n",
    "from tensorflow.keras.layers import Embedding, LSTM, Dense, Bidirectional\n",
    "\n",
    "model = Sequential()\n",
    "model.add(embedding_layer)\n",
    "model.add(Bidirectional(LSTM(20)))\n",
    "model.add(Dense(total_words, activation='softmax'))\n",
    "model.compile(loss='categorical_crossentropy', optimizer='adam', metrics=['accuracy'])\n",
    "history = model.fit(input_sequences, one_hot_labels, epochs=10, verbose=1)"
   ]
  },
  {
   "cell_type": "code",
   "execution_count": 75,
   "id": "8552e588",
   "metadata": {},
   "outputs": [
    {
     "data": {
      "image/png": "[encoded data removed]",
      "text/plain": [
       "<Figure size 432x288 with 1 Axes>"
      ]
     },
     "metadata": {
      "needs_background": "light"
     },
     "output_type": "display_data"
    },
    {
     "data": {
      "text/plain": [
       "<Figure size 432x288 with 0 Axes>"
      ]
     },
     "metadata": {},
     "output_type": "display_data"
    }
   ],
   "source": [
    "import matplotlib.pyplot as plt\n",
    "\n",
    "def plot_graphs(history, string):\n",
    "    plt.plot(history.history[string])\n",
    "    plt.xlabel(\"Epochs\")\n",
    "    plt.ylabel(string)\n",
    "    plt.title('Model Training History')\n",
    "    plt.show()\n",
    "\n",
    "plot_graphs(history, 'accuracy')\n",
    "plt.savefig('model_history_accuracy.png');"
   ]
  },
  {
   "cell_type": "code",
   "execution_count": 55,
   "id": "6b5b3ebe",
   "metadata": {},
   "outputs": [
    {
     "name": "stdout",
     "output_type": "stream",
     "text": [
      "WARNING:tensorflow:From /Users/weatherford/opt/anaconda3/envs/learn-env/lib/python3.8/site-packages/tensorflow/python/training/tracking/tracking.py:111: Model.state_updates (from tensorflow.python.keras.engine.training) is deprecated and will be removed in a future version.\n",
      "Instructions for updating:\n",
      "This property should not be used in TensorFlow 2.0, as updates are applied automatically.\n",
      "WARNING:tensorflow:From /Users/weatherford/opt/anaconda3/envs/learn-env/lib/python3.8/site-packages/tensorflow/python/training/tracking/tracking.py:111: Layer.updates (from tensorflow.python.keras.engine.base_layer) is deprecated and will be removed in a future version.\n",
      "Instructions for updating:\n",
      "This property should not be used in TensorFlow 2.0, as updates are applied automatically.\n",
      "INFO:tensorflow:Assets written to: trained_model/assets\n"
     ]
    }
   ],
   "source": [
    "model.save(\"trained_model\")"
   ]
  },
  {
   "cell_type": "code",
   "execution_count": 76,
   "id": "2a599c01",
   "metadata": {},
   "outputs": [],
   "source": [
    "trained_model = keras.models.load_model(\"trained_model\")\n"
   ]
  },
  {
   "cell_type": "code",
   "execution_count": 71,
   "id": "638ac871",
   "metadata": {},
   "outputs": [
    {
     "name": "stdout",
     "output_type": "stream",
     "text": [
      "\u001b[34massets\u001b[m\u001b[m/         saved_model.pb  \u001b[34mvariables\u001b[m\u001b[m/\r\n"
     ]
    }
   ],
   "source": [
    "ls trained_model"
   ]
  },
  {
   "cell_type": "code",
   "execution_count": 112,
   "id": "04040b07",
   "metadata": {},
   "outputs": [
    {
     "name": "stdout",
     "output_type": "stream",
     "text": [
      "i want you to lick my pump baby me and the and i dont want to be the same to the and the and i dont want to be the same to the and the and i dont want to be the same to the and the and i dont want to be the same to the and the and i dont want to be the same to the and the and i dont want to be the same to the and the and i dont want to be the same to the and the and i dont want to be the same to the and the and\n"
     ]
    }
   ],
   "source": [
    "# Notice that this produces the same output ad infinitum so we need to introduce variance into the model\n",
    "seed_text = \"i want you to lick my pump baby\"\n",
    "next_words = 100\n",
    "  \n",
    "for _ in range(next_words):\n",
    "    token_list = tokenizer.texts_to_sequences([seed_text])[0]\n",
    "    token_list = pad_sequences([token_list], maxlen=max_sequence_len-1, padding='pre')\n",
    "    predicted = np.argmax(trained_model.predict(token_list), axis=-1)\n",
    "    output_word = \"\"\n",
    "    for word, index in tokenizer.word_index.items():\n",
    "        if index == predicted:\n",
    "            output_word = word\n",
    "            break\n",
    "    seed_text += \" \" + output_word\n",
    "print(seed_text)"
   ]
  },
  {
   "cell_type": "code",
   "execution_count": 115,
   "id": "9b07cca7",
   "metadata": {},
   "outputs": [
    {
     "name": "stdout",
     "output_type": "stream",
     "text": [
      "31\n"
     ]
    }
   ],
   "source": [
    "# Test the method with just the first word after the seed text to see that the word is different\n",
    "seed_text = \"i want you to lick my pump baby\"\n",
    "next_words = 100\n",
    "  \n",
    "token_list = tokenizer.texts_to_sequences([seed_text])[0]\n",
    "token_list = pad_sequences([token_list], maxlen=max_sequence_len-1, padding='pre')\n",
    "predicted_probs = trained_model.predict(token_list)[0]\n",
    "predicted = np.random.choice([x for x in range(len(predicted_probs))], \n",
    "                             p=predicted_probs)\n",
    "# Running this cell multiple times should get you some variance in output\n",
    "print(predicted)"
   ]
  },
  {
   "cell_type": "code",
   "execution_count": 109,
   "id": "8ab094d3",
   "metadata": {},
   "outputs": [],
   "source": [
    "# Use this process for the full output generation\n",
    "def LyricsGenerator(seed_text, next_word, model):\n",
    "  \n",
    "    for _ in range(next_words):\n",
    "        token_list = tokenizer.texts_to_sequences([seed_text])[0]\n",
    "        token_list = pad_sequences([token_list], maxlen=max_sequence_len-1, padding='pre')\n",
    "        predicted_probs = model.predict(token_list)[0]\n",
    "        predicted = np.random.choice([x for x in range(len(predicted_probs))],\n",
    "                               p=predicted_probs)\n",
    "        output_word = \"\"\n",
    "        for word, index in tokenizer.word_index.items():\n",
    "            if index == predicted:\n",
    "                output_word = word\n",
    "                break\n",
    "        seed_text += \" \" + output_word\n",
    "    print(seed_text)"
   ]
  },
  {
   "cell_type": "code",
   "execution_count": 111,
   "id": "69d78b38",
   "metadata": {},
   "outputs": [
    {
     "name": "stdout",
     "output_type": "stream",
     "text": [
      "i want you to lick my pump baby you go with my embraced way maybe lines of age at christmas behind and fire in sin live curaetion and across each cries nightmares deadly too late small down on the viral out lyricsverse 1 tom delonge mark hoppus im i gone this will ever it keep the sounds strike broken like your mind start it like a death leave you seduce sleeps the voices times back of every arms out on a shelf arm for a shake for this to pieces into dog mix of bat will her made your day the end and admit maybe drink to need to\n"
     ]
    }
   ],
   "source": [
    "LyricsGenerator(\"i want you to lick my pump baby\", 100, model)"
   ]
  },
  {
   "cell_type": "markdown",
   "id": "2123776d",
   "metadata": {},
   "source": [
    "## Example:\n",
    "Seed: \"I want you to lick my pump baby\"\n",
    "i want you to lick my pump baby me when that we made you mind it sing every never again for in the band when you would eat the worst of you birds was use and easy but you dont have say this spike of the mirror bones and where pretend but oh much you loved youre the heroes you smile 1 my heart on and then going to heaven fall down to the floor i couldnt do you come to a caprice to no faces to your arms of my heart i make we let you do was this way time as pain as the book even"
   ]
  },
  {
   "cell_type": "code",
   "execution_count": 100,
   "id": "b4df6c83",
   "metadata": {
    "collapsed": true
   },
   "outputs": [
    {
     "name": "stdout",
     "output_type": "stream",
     "text": [
      "Epoch 1/50\n",
      "7531/7531 [==============================] - 1155s 153ms/step - loss: 6.3401 - accuracy: 0.0543\n",
      "Epoch 2/50\n",
      "7531/7531 [==============================] - 1263s 168ms/step - loss: 5.7497 - accuracy: 0.0957\n",
      "Epoch 3/50\n",
      "7531/7531 [==============================] - 1152s 153ms/step - loss: 5.4597 - accuracy: 0.1136\n",
      "Epoch 4/50\n",
      "7531/7531 [==============================] - 1146s 152ms/step - loss: 5.2874 - accuracy: 0.1237\n",
      "Epoch 5/50\n",
      "7531/7531 [==============================] - 1130s 150ms/step - loss: 5.1706 - accuracy: 0.1309\n",
      "Epoch 6/50\n",
      "7531/7531 [==============================] - 1134s 151ms/step - loss: 5.0856 - accuracy: 0.1369\n",
      "Epoch 7/50\n",
      "7531/7531 [==============================] - 1134s 151ms/step - loss: 5.0193 - accuracy: 0.1417\n",
      "Epoch 8/50\n",
      "7531/7531 [==============================] - 1132s 150ms/step - loss: 4.9666 - accuracy: 0.1454\n",
      "Epoch 9/50\n",
      "7531/7531 [==============================] - 1359s 180ms/step - loss: 4.9247 - accuracy: 0.1494\n",
      "Epoch 10/50\n",
      "7531/7531 [==============================] - 1079s 143ms/step - loss: 4.8869 - accuracy: 0.1522\n",
      "Epoch 11/50\n",
      "7531/7531 [==============================] - 1051s 140ms/step - loss: 4.8524 - accuracy: 0.1549\n",
      "Epoch 12/50\n",
      "7531/7531 [==============================] - 1063s 141ms/step - loss: 4.8174 - accuracy: 0.1567\n",
      "Epoch 13/50\n",
      "7531/7531 [==============================] - 1063s 141ms/step - loss: 4.7883 - accuracy: 0.1583\n",
      "Epoch 14/50\n",
      "7531/7531 [==============================] - 1043s 138ms/step - loss: 4.7616 - accuracy: 0.1606\n",
      "Epoch 15/50\n",
      "7531/7531 [==============================] - 1241s 165ms/step - loss: 4.7402 - accuracy: 0.1617\n",
      "Epoch 16/50\n",
      "7531/7531 [==============================] - 1112s 148ms/step - loss: 4.7204 - accuracy: 0.1637\n",
      "Epoch 17/50\n",
      "7531/7531 [==============================] - 1138s 151ms/step - loss: 4.7016 - accuracy: 0.1658\n",
      "Epoch 18/50\n",
      "7531/7531 [==============================] - 1225s 163ms/step - loss: 4.6799 - accuracy: 0.1673\n",
      "Epoch 19/50\n",
      "7531/7531 [==============================] - 1222s 162ms/step - loss: 4.6801 - accuracy: 0.1675\n",
      "Epoch 20/50\n",
      "7531/7531 [==============================] - 1262s 168ms/step - loss: 4.6413 - accuracy: 0.1706\n",
      "Epoch 21/50\n",
      "7531/7531 [==============================] - 1279s 170ms/step - loss: 4.6231 - accuracy: 0.1719\n",
      "Epoch 22/50\n",
      "7531/7531 [==============================] - 1211s 161ms/step - loss: 4.6046 - accuracy: 0.1736\n",
      "Epoch 23/50\n",
      "7531/7531 [==============================] - 1206s 160ms/step - loss: 4.5907 - accuracy: 0.1753\n",
      "Epoch 24/50\n",
      "7531/7531 [==============================] - 1192s 158ms/step - loss: 4.5814 - accuracy: 0.1764\n",
      "Epoch 25/50\n",
      "7531/7531 [==============================] - 1178s 156ms/step - loss: 4.5664 - accuracy: 0.1773\n",
      "Epoch 26/50\n",
      "7531/7531 [==============================] - 1135s 151ms/step - loss: 4.5551 - accuracy: 0.1785\n",
      "Epoch 27/50\n",
      "7531/7531 [==============================] - 1123s 149ms/step - loss: 4.5444 - accuracy: 0.1795\n",
      "Epoch 28/50\n",
      "7531/7531 [==============================] - 1127s 150ms/step - loss: 4.5366 - accuracy: 0.1802\n",
      "Epoch 29/50\n",
      "7531/7531 [==============================] - 1123s 149ms/step - loss: 4.5254 - accuracy: 0.1815\n",
      "Epoch 30/50\n",
      "7531/7531 [==============================] - 1125s 149ms/step - loss: 4.5112 - accuracy: 0.1827\n",
      "Epoch 31/50\n",
      "7531/7531 [==============================] - 1129s 150ms/step - loss: 4.5014 - accuracy: 0.1842\n",
      "Epoch 32/50\n",
      "7531/7531 [==============================] - 1123s 149ms/step - loss: 4.4911 - accuracy: 0.1850\n",
      "Epoch 33/50\n",
      "7531/7531 [==============================] - 1127s 150ms/step - loss: 4.4811 - accuracy: 0.1856\n",
      "Epoch 34/50\n",
      "7531/7531 [==============================] - 1129s 150ms/step - loss: 4.4927 - accuracy: 0.1854\n",
      "Epoch 35/50\n",
      "7531/7531 [==============================] - 1129s 150ms/step - loss: 4.4704 - accuracy: 0.1872\n",
      "Epoch 36/50\n",
      "7531/7531 [==============================] - 1130s 150ms/step - loss: 4.4597 - accuracy: 0.1885\n",
      "Epoch 37/50\n",
      "7531/7531 [==============================] - 1130s 150ms/step - loss: 4.4502 - accuracy: 0.1893\n",
      "Epoch 38/50\n",
      "7531/7531 [==============================] - 1145s 152ms/step - loss: 4.4423 - accuracy: 0.1898\n",
      "Epoch 39/50\n",
      "7531/7531 [==============================] - 1133s 150ms/step - loss: 4.4341 - accuracy: 0.1909\n",
      "Epoch 40/50\n",
      "7531/7531 [==============================] - 1130s 150ms/step - loss: 4.4283 - accuracy: 0.1914\n",
      "Epoch 41/50\n",
      "7531/7531 [==============================] - 1130s 150ms/step - loss: 4.4190 - accuracy: 0.1925\n",
      "Epoch 42/50\n",
      "7531/7531 [==============================] - 1129s 150ms/step - loss: 4.4123 - accuracy: 0.1935\n",
      "Epoch 43/50\n",
      "7531/7531 [==============================] - 1139s 151ms/step - loss: 4.4073 - accuracy: 0.1940\n",
      "Epoch 44/50\n",
      "7531/7531 [==============================] - 1139s 151ms/step - loss: 4.4856 - accuracy: 0.1850\n",
      "Epoch 45/50\n",
      "7531/7531 [==============================] - 1132s 150ms/step - loss: 4.4175 - accuracy: 0.1929\n",
      "Epoch 46/50\n",
      "7531/7531 [==============================] - 1131s 150ms/step - loss: 4.3946 - accuracy: 0.1948\n",
      "Epoch 47/50\n",
      "7531/7531 [==============================] - 1131s 150ms/step - loss: 4.3812 - accuracy: 0.1968\n",
      "Epoch 48/50\n",
      "7531/7531 [==============================] - 1131s 150ms/step - loss: 4.4100 - accuracy: 0.1938\n",
      "Epoch 49/50\n",
      "7531/7531 [==============================] - 1133s 150ms/step - loss: 4.3679 - accuracy: 0.1988\n",
      "Epoch 50/50\n",
      "7531/7531 [==============================] - 1167s 155ms/step - loss: 4.3886 - accuracy: 0.1973\n",
      "INFO:tensorflow:Assets written to: trained_model_50_epochs/assets\n"
     ]
    }
   ],
   "source": [
    "model2 = Sequential()\n",
    "model2.add(embedding_layer)\n",
    "model2.add(Bidirectional(LSTM(20)))\n",
    "model2.add(Dense(total_words, activation='softmax'))\n",
    "model2.compile(loss='categorical_crossentropy', optimizer='adam', metrics=['accuracy'])\n",
    "history = model2.fit(input_sequences, one_hot_labels, epochs=50, verbose=1)\n",
    "model2.save(\"trained_model_50_epochs\")"
   ]
  },
  {
   "cell_type": "code",
   "execution_count": 162,
   "id": "23075fb9",
   "metadata": {},
   "outputs": [
    {
     "data": {
      "image/png": "[encoded data removed]",
      "text/plain": [
       "<Figure size 432x288 with 1 Axes>"
      ]
     },
     "metadata": {
      "needs_background": "light"
     },
     "output_type": "display_data"
    },
    {
     "data": {
      "text/plain": [
       "<Figure size 432x288 with 0 Axes>"
      ]
     },
     "metadata": {},
     "output_type": "display_data"
    }
   ],
   "source": [
    "def final_plot_graphs(history, string):\n",
    "    plt.plot(history.history[string])\n",
    "    plt.xlabel(\"Epochs\")\n",
    "    plt.ylabel(string)\n",
    "    plt.title('Final Model Training History')\n",
    "    plt.show()\n",
    "\n",
    "plot = final_plot_graphs(history, 'accuracy')\n",
    "plt.savefig('final_model_history_accuracy.png');"
   ]
  },
  {
   "cell_type": "code",
   "execution_count": 116,
   "id": "0ab2b67c",
   "metadata": {},
   "outputs": [],
   "source": [
    "final_model = keras.models.load_model(\"trained_model_50_epochs\")"
   ]
  },
  {
   "cell_type": "code",
   "execution_count": 119,
   "id": "531c53eb",
   "metadata": {
    "scrolled": true
   },
   "outputs": [
    {
     "name": "stdout",
     "output_type": "stream",
     "text": [
      "i want you to lick my pump baby as fake frustration sky down youll lyricspurple you all into you will watch the register form ill live curaetion on on your valentine questions stop case got my heart came come on in front they record do you do i wanted is some good anymore with guys comes you feel good old hundred years for my fingers and the that i have no love to say for the last we never have another great masturbate help of the different ways and fond remix pretty hardcore pages and shimmy won’t japanese so gonna website a couple spreads hard to put this\n"
     ]
    }
   ],
   "source": [
    "# Test the method with just the first word after the seed text\n",
    "seed_text = \"i want you to lick my pump baby\"\n",
    "next_words = 100\n",
    "\n",
    "LyricsGenerator(seed_text, next_words, final_model)"
   ]
  },
  {
   "cell_type": "code",
   "execution_count": null,
   "id": "b8055423",
   "metadata": {},
   "outputs": [],
   "source": [
    "i want you to lick my pump baby under dressing happy new times nudist might also wah we go home through the last bed of a face you can be not okay i got a tree live nuts were so much here i have and maybe in you see the first minute but i remember the blood always have not to think my day like someone to making her then could be a kind song what it didnt will need you i quit but much to my all or can worked in my life an natural this just are allowed for ourselves forget a side and die it"
   ]
  },
  {
   "cell_type": "code",
   "execution_count": 142,
   "id": "c573101a",
   "metadata": {},
   "outputs": [
    {
     "name": "stdout",
     "output_type": "stream",
     "text": [
      "I was worried you’d leave me, but now I see you’ve free me at i often just try to even that they do all you can go so much all i thought and i never be a none like your life has and home and my time and if only you always breathe to the drums you it is living a since to a lot ways night i often cry heard the are to kill me at or knowing but faith and goodnight opposite so perfect baby but now sometimes its raining takes a legs company out that are been to the to change that will but then i fall at least back\n"
     ]
    }
   ],
   "source": [
    "seed_text = \"I was worried you’d leave me, but now I see you’ve free me\"\n",
    "LyricsGenerator(seed_text, next_words, final_model)"
   ]
  },
  {
   "cell_type": "code",
   "execution_count": 134,
   "id": "f4140840",
   "metadata": {},
   "outputs": [
    {
     "name": "stdout",
     "output_type": "stream",
     "text": [
      "Tormented in the bagel shop queen roof down and slower la la la la la la la la la la important sun finger for to live at truth me in a breath blue twice loud odeon happenyou lyricsintro uh eventually that all right through them and act going to the some some cant do it to you anymore to read her in the book i would be this through all the darkness through her snow faster final put two a conversation thing out hate of unicorns years bed i wasnt of us for the everything where and heard our listens boat outside and sign and\n"
     ]
    }
   ],
   "source": [
    "seed_text = \"Tormented in the bagel shop\"\n",
    "LyricsGenerator(seed_text, next_words, final_model)"
   ]
  }
 ],
 "metadata": {
  "kernelspec": {
   "display_name": "Python (learn-env)",
   "language": "python",
   "name": "learn-env"
  },
  "language_info": {
   "codemirror_mode": {
    "name": "ipython",
    "version": 3
   },
   "file_extension": ".py",
   "mimetype": "text/x-python",
   "name": "python",
   "nbconvert_exporter": "python",
   "pygments_lexer": "ipython3",
   "version": "3.8.5"
  }
 },
 "nbformat": 4,
 "nbformat_minor": 5
}
