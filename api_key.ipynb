{
 "cells": [
  {
   "cell_type": "markdown",
   "id": "11aa8bc9",
   "metadata": {},
   "source": [
    "# Genius API Key"
   ]
  },
  {
   "cell_type": "code",
   "execution_count": 4,
   "id": "bd231ed5",
   "metadata": {
    "scrolled": true
   },
   "outputs": [
    {
     "name": "stdout",
     "output_type": "stream",
     "text": [
      "Collecting apikey\n",
      "  Downloading apikey-0.2.4.tar.gz (6.6 kB)\n",
      "Building wheels for collected packages: apikey\n",
      "  Building wheel for apikey (setup.py) ... \u001b[?25ldone\n",
      "\u001b[?25h  Created wheel for apikey: filename=apikey-0.2.4-py3-none-any.whl size=6673 sha256=1d0ce09ea6dbabe7c9270387b4f831e540eb9910d7687c716e63841700f5e09c\n",
      "  Stored in directory: /Users/weatherford/Library/Caches/pip/wheels/84/f9/f0/80eb346bcf71712c020eeb6ea637bd41ffd820e6b3cb3f24e7\n",
      "Successfully built apikey\n",
      "Installing collected packages: apikey\n",
      "Successfully installed apikey-0.2.4\n"
     ]
    }
   ],
   "source": [
    "! pip install apikey"
   ]
  },
  {
   "cell_type": "code",
   "execution_count": 6,
   "id": "b7ef28e9",
   "metadata": {},
   "outputs": [],
   "source": [
    "import apikey"
   ]
  },
  {
   "cell_type": "code",
   "execution_count": 7,
   "id": "c4656a8c",
   "metadata": {},
   "outputs": [],
   "source": [
    "apikey.save(\"Genius\", \"p_tUYgSaAIUcIWavzI4dWlwhsdBIgJPhp6TEfg8WtA2ylDqTVjoFNZKZWc2O73H3\")"
   ]
  },
  {
   "cell_type": "code",
   "execution_count": 9,
   "id": "4770fa8a",
   "metadata": {},
   "outputs": [
    {
     "data": {
      "text/plain": [
       "'p_tUYgSaAIUcIWavzI4dWlwhsdBIgJPhp6TEfg8WtA2ylDqTVjoFNZKZWc2O73H3'"
      ]
     },
     "execution_count": 9,
     "metadata": {},
     "output_type": "execute_result"
    }
   ],
   "source": [
    "key1 = apikey.load(\"Genius\")\n",
    "key1"
   ]
  },
  {
   "cell_type": "code",
   "execution_count": null,
   "id": "cd39bf2a",
   "metadata": {},
   "outputs": [],
   "source": []
  }
 ],
 "metadata": {
  "kernelspec": {
   "display_name": "Python (learn-env)",
   "language": "python",
   "name": "learn-env"
  },
  "language_info": {
   "codemirror_mode": {
    "name": "ipython",
    "version": 3
   },
   "file_extension": ".py",
   "mimetype": "text/x-python",
   "name": "python",
   "nbconvert_exporter": "python",
   "pygments_lexer": "ipython3",
   "version": "3.8.5"
  }
 },
 "nbformat": 4,
 "nbformat_minor": 5
}
