{
 "cells": [
  {
   "cell_type": "markdown",
   "id": "565bf7af",
   "metadata": {},
   "source": [
    "# BERT Model"
   ]
  },
  {
   "cell_type": "code",
   "execution_count": 1,
   "id": "6a93cba8",
   "metadata": {
    "scrolled": true
   },
   "outputs": [
    {
     "name": "stdout",
     "output_type": "stream",
     "text": [
      "Collecting tensorflow_hub\n",
      "  Downloading tensorflow_hub-0.12.0-py2.py3-none-any.whl (108 kB)\n",
      "\u001b[K     |████████████████████████████████| 108 kB 6.3 MB/s eta 0:00:01\n",
      "\u001b[?25hRequirement already satisfied, skipping upgrade: numpy>=1.12.0 in /Users/weatherford/opt/anaconda3/envs/learn-env/lib/python3.8/site-packages (from tensorflow_hub) (1.18.5)\n",
      "Requirement already satisfied, skipping upgrade: protobuf>=3.8.0 in /Users/weatherford/opt/anaconda3/envs/learn-env/lib/python3.8/site-packages (from tensorflow_hub) (3.13.0)\n",
      "Requirement already satisfied, skipping upgrade: six>=1.9 in /Users/weatherford/opt/anaconda3/envs/learn-env/lib/python3.8/site-packages (from protobuf>=3.8.0->tensorflow_hub) (1.15.0)\n",
      "Requirement already satisfied, skipping upgrade: setuptools in /Users/weatherford/opt/anaconda3/envs/learn-env/lib/python3.8/site-packages (from protobuf>=3.8.0->tensorflow_hub) (50.3.0.post20201103)\n",
      "Installing collected packages: tensorflow-hub\n",
      "Successfully installed tensorflow-hub-0.12.0\n"
     ]
    }
   ],
   "source": [
    "!pip install --upgrade tensorflow_hub"
   ]
  },
  {
   "cell_type": "code",
   "execution_count": 16,
   "id": "39ddf7b7",
   "metadata": {},
   "outputs": [
    {
     "name": "stdout",
     "output_type": "stream",
     "text": [
      "Collecting transformers\n",
      "  Downloading transformers-4.23.1-py3-none-any.whl (5.3 MB)\n",
      "\u001b[K     |████████████████████████████████| 5.3 MB 6.4 MB/s eta 0:00:01\n",
      "\u001b[?25hRequirement already satisfied: pyyaml>=5.1 in /Users/weatherford/opt/anaconda3/envs/learn-env/lib/python3.8/site-packages (from transformers) (5.3.1)\n",
      "Requirement already satisfied: packaging>=20.0 in /Users/weatherford/opt/anaconda3/envs/learn-env/lib/python3.8/site-packages (from transformers) (21.3)\n",
      "Collecting filelock\n",
      "  Downloading filelock-3.8.0-py3-none-any.whl (10 kB)\n",
      "Collecting tokenizers!=0.11.3,<0.14,>=0.11.1\n",
      "  Downloading tokenizers-0.13.1-cp38-cp38-macosx_10_11_x86_64.whl (3.8 MB)\n",
      "\u001b[K     |████████████████████████████████| 3.8 MB 11.6 MB/s eta 0:00:01\n",
      "\u001b[?25hRequirement already satisfied: tqdm>=4.27 in /Users/weatherford/opt/anaconda3/envs/learn-env/lib/python3.8/site-packages (from transformers) (4.50.2)\n",
      "Requirement already satisfied: numpy>=1.17 in /Users/weatherford/opt/anaconda3/envs/learn-env/lib/python3.8/site-packages (from transformers) (1.18.5)\n",
      "Collecting huggingface-hub<1.0,>=0.10.0\n",
      "  Downloading huggingface_hub-0.10.1-py3-none-any.whl (163 kB)\n",
      "\u001b[K     |████████████████████████████████| 163 kB 7.5 MB/s eta 0:00:01\n",
      "\u001b[?25hRequirement already satisfied: requests in /Users/weatherford/opt/anaconda3/envs/learn-env/lib/python3.8/site-packages (from transformers) (2.24.0)\n",
      "Requirement already satisfied: regex!=2019.12.17 in /Users/weatherford/opt/anaconda3/envs/learn-env/lib/python3.8/site-packages (from transformers) (2020.10.11)\n",
      "Requirement already satisfied: pyparsing!=3.0.5,>=2.0.2 in /Users/weatherford/opt/anaconda3/envs/learn-env/lib/python3.8/site-packages (from packaging>=20.0->transformers) (2.4.7)\n",
      "Requirement already satisfied: typing-extensions>=3.7.4.3 in /Users/weatherford/opt/anaconda3/envs/learn-env/lib/python3.8/site-packages (from huggingface-hub<1.0,>=0.10.0->transformers) (4.3.0)\n",
      "Requirement already satisfied: urllib3!=1.25.0,!=1.25.1,<1.26,>=1.21.1 in /Users/weatherford/opt/anaconda3/envs/learn-env/lib/python3.8/site-packages (from requests->transformers) (1.25.10)\n",
      "Requirement already satisfied: idna<3,>=2.5 in /Users/weatherford/opt/anaconda3/envs/learn-env/lib/python3.8/site-packages (from requests->transformers) (2.10)\n",
      "Requirement already satisfied: certifi>=2017.4.17 in /Users/weatherford/opt/anaconda3/envs/learn-env/lib/python3.8/site-packages (from requests->transformers) (2022.6.15)\n",
      "Requirement already satisfied: chardet<4,>=3.0.2 in /Users/weatherford/opt/anaconda3/envs/learn-env/lib/python3.8/site-packages (from requests->transformers) (3.0.4)\n",
      "Installing collected packages: filelock, tokenizers, huggingface-hub, transformers\n",
      "Successfully installed filelock-3.8.0 huggingface-hub-0.10.1 tokenizers-0.13.1 transformers-4.23.1\n"
     ]
    }
   ],
   "source": [
    "!pip install transformers"
   ]
  },
  {
   "cell_type": "code",
   "execution_count": 18,
   "id": "d4fb8aba",
   "metadata": {},
   "outputs": [],
   "source": [
    "import tensorflow_hub as hub\n",
    "import numpy as np\n",
    "\n",
    "from transformers import BertTokenizer"
   ]
  },
  {
   "cell_type": "code",
   "execution_count": 3,
   "id": "7ba86494",
   "metadata": {},
   "outputs": [],
   "source": [
    "module_url = \"https://tfhub.dev/tensorflow/bert_en_uncased_L-24_H-1024_A-16/1\"\n",
    "bert_layer = hub.KerasLayer(module_url, trainable=False) #set to False cause don't want to retrain BERT layers"
   ]
  },
  {
   "cell_type": "code",
   "execution_count": 19,
   "id": "89b7c40f",
   "metadata": {},
   "outputs": [
    {
     "ename": "SyntaxError",
     "evalue": "invalid syntax (<ipython-input-19-bde49513b147>, line 1)",
     "output_type": "error",
     "traceback": [
      "\u001b[0;36m  File \u001b[0;32m\"<ipython-input-19-bde49513b147>\"\u001b[0;36m, line \u001b[0;32m1\u001b[0m\n\u001b[0;31m    tokenizer = BertTokenizer.from_pretrained(//path to tokenizers)\u001b[0m\n\u001b[0m                                              ^\u001b[0m\n\u001b[0;31mSyntaxError\u001b[0m\u001b[0;31m:\u001b[0m invalid syntax\n"
     ]
    }
   ],
   "source": [
    "tokenizer = BertTokenizer.from_pretrained(//path to tokenizers)\n",
    "sample = 'where is Himalayas in the world map?'\n",
    "encoding = tokenizer.encode(sample)\n",
    "print(encoding)\n",
    "print(tokenizer.convert_ids_to_tokens(encoding))output 1: [101, 2073, 2003, 26779, 1999, 1996, 2088, 4949, 1029, 102]\n",
    "output 2: ['[CLS]', 'where', 'is', 'himalayas', 'in', 'the', 'world', 'map', '?', '[SEP]']"
   ]
  }
 ],
 "metadata": {
  "kernelspec": {
   "display_name": "Python (learn-env)",
   "language": "python",
   "name": "learn-env"
  },
  "language_info": {
   "codemirror_mode": {
    "name": "ipython",
    "version": 3
   },
   "file_extension": ".py",
   "mimetype": "text/x-python",
   "name": "python",
   "nbconvert_exporter": "python",
   "pygments_lexer": "ipython3",
   "version": "3.8.5"
  }
 },
 "nbformat": 4,
 "nbformat_minor": 5
}
